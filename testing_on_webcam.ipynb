{
 "cells": [
  {
   "cell_type": "code",
   "execution_count": 1,
   "id": "e7dcc4f4",
   "metadata": {},
   "outputs": [],
   "source": [
    "import numpy as np\n",
    "import keras.models\n",
    "import matplotlib.pyplot as plt\n",
    "from PIL import Image"
   ]
  },
  {
   "cell_type": "code",
   "execution_count": 2,
   "id": "18bb8fda",
   "metadata": {},
   "outputs": [
    {
     "name": "stdout",
     "output_type": "stream",
     "text": [
      "WARNING:tensorflow:Error in loading the saved optimizer state. As a result, your model is starting with a freshly initialized optimizer.\n"
     ]
    }
   ],
   "source": [
    "model = keras.models.load_model('face_mask_detection_model.h5')"
   ]
  },
  {
   "cell_type": "code",
   "execution_count": 3,
   "id": "e4fdb854",
   "metadata": {},
   "outputs": [
    {
     "name": "stdout",
     "output_type": "stream",
     "text": [
      "Model: \"sequential\"\n",
      "_________________________________________________________________\n",
      " Layer (type)                Output Shape              Param #   \n",
      "=================================================================\n",
      " conv2d (Conv2D)             (None, 92, 92, 112)       8512      \n",
      "                                                                 \n",
      " max_pooling2d (MaxPooling2D  (None, 46, 46, 112)      0         \n",
      " )                                                               \n",
      "                                                                 \n",
      " conv2d_1 (Conv2D)           (None, 42, 42, 48)        134448    \n",
      "                                                                 \n",
      " max_pooling2d_1 (MaxPooling  (None, 21, 21, 48)       0         \n",
      " 2D)                                                             \n",
      "                                                                 \n",
      " flatten (Flatten)           (None, 21168)             0         \n",
      "                                                                 \n",
      " dense (Dense)               (None, 64)                1354816   \n",
      "                                                                 \n",
      " dense_1 (Dense)             (None, 64)                4160      \n",
      "                                                                 \n",
      " dense_2 (Dense)             (None, 2)                 130       \n",
      "                                                                 \n",
      "=================================================================\n",
      "Total params: 1,502,066\n",
      "Trainable params: 1,502,066\n",
      "Non-trainable params: 0\n",
      "_________________________________________________________________\n"
     ]
    }
   ],
   "source": [
    "model.summary()"
   ]
  },
  {
   "cell_type": "code",
   "execution_count": 11,
   "id": "c76a772f",
   "metadata": {},
   "outputs": [
    {
     "data": {
      "text/plain": [
       "True"
      ]
     },
     "execution_count": 11,
     "metadata": {},
     "output_type": "execute_result"
    }
   ],
   "source": [
    "import cv2\n",
    "vid = cv2.VideoCapture(0)\n",
    "address = 'http://192.168.0.102:8080/video'\n",
    "vid.open(address)\n",
    "# vid.set(cv2.CAP_PROP_FRAME_WIDTH, 160)\n",
    "# vid.set(cv2.CAP_PROP_FRAME_HEIGHT, 120)"
   ]
  },
  {
   "cell_type": "code",
   "execution_count": 12,
   "id": "c64a34e9",
   "metadata": {},
   "outputs": [
    {
     "ename": "error",
     "evalue": "OpenCV(4.5.4) D:\\a\\opencv-python\\opencv-python\\opencv\\modules\\imgproc\\src\\color.cpp:182: error: (-215:Assertion failed) !_src.empty() in function 'cv::cvtColor'\n",
     "output_type": "error",
     "traceback": [
      "\u001b[1;31m---------------------------------------------------------------------------\u001b[0m",
      "\u001b[1;31merror\u001b[0m                                     Traceback (most recent call last)",
      "\u001b[1;32m~\\AppData\\Local\\Temp/ipykernel_18296/3696824051.py\u001b[0m in \u001b[0;36m<module>\u001b[1;34m\u001b[0m\n\u001b[0;32m      6\u001b[0m \u001b[1;31m#     img = imutils.resize(img, width=1000)\u001b[0m\u001b[1;33m\u001b[0m\u001b[1;33m\u001b[0m\u001b[1;33m\u001b[0m\u001b[0m\n\u001b[0;32m      7\u001b[0m \u001b[1;33m\u001b[0m\u001b[0m\n\u001b[1;32m----> 8\u001b[1;33m     \u001b[0mgray\u001b[0m \u001b[1;33m=\u001b[0m \u001b[0mcv2\u001b[0m\u001b[1;33m.\u001b[0m\u001b[0mcvtColor\u001b[0m\u001b[1;33m(\u001b[0m\u001b[0mimg\u001b[0m\u001b[1;33m,\u001b[0m \u001b[0mcv2\u001b[0m\u001b[1;33m.\u001b[0m\u001b[0mCOLOR_BGR2GRAY\u001b[0m\u001b[1;33m)\u001b[0m\u001b[1;33m\u001b[0m\u001b[1;33m\u001b[0m\u001b[0m\n\u001b[0m\u001b[0;32m      9\u001b[0m     faceCascade = cv2.CascadeClassifier(\n\u001b[0;32m     10\u001b[0m         cv2.data.haarcascades + \"haarcascade_frontalface_default.xml\")\n",
      "\u001b[1;31merror\u001b[0m: OpenCV(4.5.4) D:\\a\\opencv-python\\opencv-python\\opencv\\modules\\imgproc\\src\\color.cpp:182: error: (-215:Assertion failed) !_src.empty() in function 'cv::cvtColor'\n"
     ]
    }
   ],
   "source": [
    "import imutils\n",
    "while(True):\n",
    "    # Capture the video frame\n",
    "    # by frame\n",
    "    ret, img = vid.read()\n",
    "#     img = imutils.resize(img, width=1000)\n",
    "    \n",
    "    gray = cv2.cvtColor(img, cv2.COLOR_BGR2GRAY)\n",
    "    faceCascade = cv2.CascadeClassifier(\n",
    "        cv2.data.haarcascades + \"haarcascade_frontalface_default.xml\")\n",
    "    faces = faceCascade.detectMultiScale(gray, minSize=(200,200))\n",
    "    \n",
    "    for (x, y, w, h) in faces:\n",
    "        face_img = img[y:y + h, x:x + w]\n",
    "\n",
    "        face_img = cv2.resize(face_img, (96,96))\n",
    "        face_img = cv2.cvtColor(face_img, cv2.COLOR_BGR2RGB)\n",
    "        face_arr = np.asarray(face_img)\n",
    "        face_arr = face_arr / 255.0\n",
    "        res = model.predict(np.array([face_arr]))[0]\n",
    "        if res[0] > res[1]:\n",
    "            color = (0, 0, 255)\n",
    "            label = 'UnMasked: ' + \"{:.2f}\".format(res[0]*100)\n",
    "        else:\n",
    "            color = (0, 255, 0)\n",
    "            label = 'Masked: ' + \"{:.2f}\".format(res[1]*100)\n",
    "        \n",
    "        x1, y1, x2, y2 = x, y, x+w, y+h\n",
    "        text_color = (255, 0, 0)\n",
    "        # For bounding box\n",
    "        img = cv2.rectangle(img, (x1, y1), (x2, y2), color, 2)\n",
    "\n",
    "        # For the text background\n",
    "        # Finds space required by the text so that we can put a background with that amount of width.\n",
    "        (w, h), _ = cv2.getTextSize(\n",
    "                label, cv2.FONT_HERSHEY_SIMPLEX, 1, 1)\n",
    "\n",
    "        # Prints the text.    \n",
    "        img = cv2.rectangle(img, (x1, y1 - 20), (x1 + w, y1), color, -1)\n",
    "        img = cv2.putText(img, label, (x1, y1),\n",
    "                            cv2.FONT_HERSHEY_SIMPLEX, 1, (255,255,255), 2)\n",
    "                            \n",
    "    cv2.imshow('image', img)\n",
    "    # the 'q' button is set as the\n",
    "    # quitting button you may use any\n",
    "    # desired button of your choice\n",
    "    if cv2.waitKey(1) & 0xFF == ord('q'):\n",
    "        break\n"
   ]
  },
  {
   "cell_type": "code",
   "execution_count": 10,
   "id": "9283488b",
   "metadata": {},
   "outputs": [],
   "source": [
    "  \n",
    "# After the loop release the cap object\n",
    "vid.release()\n",
    "# Destroy all the windows\n",
    "cv2.destroyAllWindows()"
   ]
  },
  {
   "cell_type": "code",
   "execution_count": null,
   "id": "e9513326",
   "metadata": {},
   "outputs": [],
   "source": [
    "image = cv2.imread('image_2.jpeg')\n",
    "gray = cv2.cvtColor(image, cv2.COLOR_BGR2GRAY)\n",
    "\n",
    "faceCascade = cv2.CascadeClassifier(\n",
    "    cv2.data.haarcascades + \"haarcascade_frontalface_default.xml\")\n",
    "faces = faceCascade.detectMultiScale(gray,1.1,3,minSize=(200,200))\n",
    "\n",
    "print(\"[INFO] Found {0} Faces!\".format(len(faces)))\n",
    "\n",
    "for (x, y, w, h) in faces:\n",
    "    face_img = image[y:y + h, x:x + w]\n",
    "    print(w, ' ', h)\n",
    "    face_img = cv2.resize(face_img, (96,96))\n",
    "    face_img = cv2.cvtColor(face_img, cv2.COLOR_BGR2RGB)\n",
    "    face_arr = np.asarray(face_img)\n",
    "    \n",
    "    plt.imshow(face_arr)\n",
    "    plt.show()\n",
    "    \n",
    "    res = model.predict(np.array([face_arr]))[0]\n",
    "    print(res)\n",
    "    if res[0] > res[1]:\n",
    "        cv2.rectangle(image, (x, y), (x + w, y + h), (0, 0, 255), 2)\n",
    "    else:\n",
    "        cv2.rectangle(image, (x, y), (x + w, y + h), (0, 255, 0), 2)\n",
    "    "
   ]
  },
  {
   "cell_type": "code",
   "execution_count": null,
   "id": "03c16ba2",
   "metadata": {},
   "outputs": [],
   "source": []
  },
  {
   "cell_type": "markdown",
   "id": "1ae3b859",
   "metadata": {},
   "source": [
    "\n"
   ]
  },
  {
   "cell_type": "code",
   "execution_count": null,
   "id": "ac565275",
   "metadata": {},
   "outputs": [],
   "source": []
  }
 ],
 "metadata": {
  "kernelspec": {
   "display_name": "Python 3 (ipykernel)",
   "language": "python",
   "name": "python3"
  },
  "language_info": {
   "codemirror_mode": {
    "name": "ipython",
    "version": 3
   },
   "file_extension": ".py",
   "mimetype": "text/x-python",
   "name": "python",
   "nbconvert_exporter": "python",
   "pygments_lexer": "ipython3",
   "version": "3.8.12"
  }
 },
 "nbformat": 4,
 "nbformat_minor": 5
}
